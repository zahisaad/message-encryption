{
 "cells": [
  {
   "cell_type": "code",
   "execution_count": 329,
   "id": "bb503964",
   "metadata": {},
   "outputs": [],
   "source": [
    "from Crypto.PublicKey import RSA"
   ]
  },
  {
   "cell_type": "code",
   "execution_count": 330,
   "id": "f709921a",
   "metadata": {},
   "outputs": [],
   "source": [
    "from Crypto.Cipher import AES, PKCS1_OAEP"
   ]
  },
  {
   "cell_type": "code",
   "execution_count": 331,
   "id": "5dc73769",
   "metadata": {},
   "outputs": [],
   "source": [
    "file_in = open(\"encrypted_data.bin\", \"rb\")"
   ]
  },
  {
   "cell_type": "code",
   "execution_count": 332,
   "id": "7731163c",
   "metadata": {},
   "outputs": [],
   "source": [
    "private_key = RSA.import_key(open(\"private.pem\").read())"
   ]
  },
  {
   "cell_type": "code",
   "execution_count": 333,
   "id": "e2babb71",
   "metadata": {},
   "outputs": [],
   "source": [
    "enc_session_key, nonce, tag, ciphertext = \\\n",
    "   [ file_in.read(x) for x in (private_key.size_in_bytes(), 16, 16, -1) ]"
   ]
  },
  {
   "cell_type": "code",
   "execution_count": 334,
   "id": "85057f49",
   "metadata": {},
   "outputs": [],
   "source": [
    "cipher_rsa = PKCS1_OAEP.new(private_key)"
   ]
  },
  {
   "cell_type": "code",
   "execution_count": 335,
   "id": "4e76b3f7",
   "metadata": {},
   "outputs": [],
   "source": [
    "session_key = cipher_rsa.decrypt(enc_session_key)"
   ]
  },
  {
   "cell_type": "code",
   "execution_count": 336,
   "id": "3eed1a5a",
   "metadata": {},
   "outputs": [],
   "source": [
    "cipher_aes = AES.new(session_key, AES.MODE_EAX, nonce)"
   ]
  },
  {
   "cell_type": "code",
   "execution_count": 337,
   "id": "086900a7",
   "metadata": {},
   "outputs": [],
   "source": [
    "data = cipher_aes.decrypt_and_verify(ciphertext, tag)"
   ]
  },
  {
   "cell_type": "code",
   "execution_count": 338,
   "id": "2dce1e76",
   "metadata": {},
   "outputs": [],
   "source": [
    "g = open(\"decrypted_data.txt\", \"w\")"
   ]
  },
  {
   "cell_type": "code",
   "execution_count": 339,
   "id": "b687d586",
   "metadata": {},
   "outputs": [
    {
     "data": {
      "text/plain": [
       "6"
      ]
     },
     "execution_count": 339,
     "metadata": {},
     "output_type": "execute_result"
    }
   ],
   "source": [
    "g.write(data.decode(\"utf-8\"))"
   ]
  },
  {
   "cell_type": "code",
   "execution_count": 340,
   "id": "7782779b",
   "metadata": {},
   "outputs": [],
   "source": [
    "g.close()"
   ]
  },
  {
   "cell_type": "code",
   "execution_count": null,
   "id": "eb7ae14d",
   "metadata": {},
   "outputs": [],
   "source": []
  },
  {
   "cell_type": "code",
   "execution_count": null,
   "id": "3530e9af",
   "metadata": {},
   "outputs": [],
   "source": []
  },
  {
   "cell_type": "code",
   "execution_count": null,
   "id": "73cf969f",
   "metadata": {},
   "outputs": [],
   "source": []
  }
 ],
 "metadata": {
  "kernelspec": {
   "display_name": "Python 3 (ipykernel)",
   "language": "python",
   "name": "python3"
  },
  "language_info": {
   "codemirror_mode": {
    "name": "ipython",
    "version": 3
   },
   "file_extension": ".py",
   "mimetype": "text/x-python",
   "name": "python",
   "nbconvert_exporter": "python",
   "pygments_lexer": "ipython3",
   "version": "3.9.13"
  }
 },
 "nbformat": 4,
 "nbformat_minor": 5
}
