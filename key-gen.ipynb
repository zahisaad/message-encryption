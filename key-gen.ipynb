{
 "cells": [
  {
   "cell_type": "code",
   "execution_count": 54,
   "id": "7c6e3b7f",
   "metadata": {},
   "outputs": [
    {
     "name": "stdout",
     "output_type": "stream",
     "text": [
      "Requirement already satisfied: pycryptodome in d:\\anaconda1\\lib\\site-packages (3.19.0)\n"
     ]
    }
   ],
   "source": [
    "!pip install pycryptodome"
   ]
  },
  {
   "cell_type": "code",
   "execution_count": 55,
   "id": "40d1c5e4",
   "metadata": {},
   "outputs": [],
   "source": [
    "from Crypto.PublicKey import RSA"
   ]
  },
  {
   "cell_type": "code",
   "execution_count": 56,
   "id": "831581e9",
   "metadata": {},
   "outputs": [],
   "source": [
    "key = RSA.generate(2048)"
   ]
  },
  {
   "cell_type": "code",
   "execution_count": 57,
   "id": "95309cb1",
   "metadata": {},
   "outputs": [],
   "source": [
    "private_key = key.export_key()"
   ]
  },
  {
   "cell_type": "code",
   "execution_count": 58,
   "id": "bf023f5d",
   "metadata": {},
   "outputs": [],
   "source": [
    "with open(\"private.pem\", \"wb\") as file_out:\n",
    "    file_out.write(private_key)"
   ]
  },
  {
   "cell_type": "code",
   "execution_count": 59,
   "id": "a2968fe5",
   "metadata": {},
   "outputs": [],
   "source": [
    "public_key = key.publickey().export_key()"
   ]
  },
  {
   "cell_type": "code",
   "execution_count": 60,
   "id": "19c20d35",
   "metadata": {},
   "outputs": [],
   "source": [
    "with open(\"public.pem\", \"wb\") as file_out:\n",
    "    file_out.write(public_key)"
   ]
  },
  {
   "cell_type": "code",
   "execution_count": null,
   "id": "5095030f",
   "metadata": {},
   "outputs": [],
   "source": []
  }
 ],
 "metadata": {
  "kernelspec": {
   "display_name": "Python 3 (ipykernel)",
   "language": "python",
   "name": "python3"
  },
  "language_info": {
   "codemirror_mode": {
    "name": "ipython",
    "version": 3
   },
   "file_extension": ".py",
   "mimetype": "text/x-python",
   "name": "python",
   "nbconvert_exporter": "python",
   "pygments_lexer": "ipython3",
   "version": "3.9.13"
  }
 },
 "nbformat": 4,
 "nbformat_minor": 5
}
