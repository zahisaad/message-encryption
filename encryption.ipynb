{
 "cells": [
  {
   "cell_type": "code",
   "execution_count": 462,
   "id": "d6eaa7eb",
   "metadata": {},
   "outputs": [
    {
     "name": "stdout",
     "output_type": "stream",
     "text": [
      "Requirement already satisfied: pycryptodome in d:\\anaconda1\\lib\\site-packages (3.19.0)\n"
     ]
    }
   ],
   "source": [
    "!pip install pycryptodome"
   ]
  },
  {
   "cell_type": "code",
   "execution_count": 463,
   "id": "c1b2d38c",
   "metadata": {},
   "outputs": [],
   "source": [
    "from Crypto.PublicKey import RSA"
   ]
  },
  {
   "cell_type": "code",
   "execution_count": 464,
   "id": "0588f9ae",
   "metadata": {},
   "outputs": [],
   "source": [
    "from Crypto.Random import get_random_bytes"
   ]
  },
  {
   "cell_type": "code",
   "execution_count": 465,
   "id": "ea64beb3",
   "metadata": {},
   "outputs": [],
   "source": [
    "from Crypto.Cipher import AES, PKCS1_OAEP"
   ]
  },
  {
   "cell_type": "code",
   "execution_count": 466,
   "id": "1234c99d",
   "metadata": {},
   "outputs": [],
   "source": [
    "with open(\"text.txt\", \"r\") as f:\n",
    "    data = f.read()\n",
    "    data = data.encode(\"utf-8\")"
   ]
  },
  {
   "cell_type": "code",
   "execution_count": 467,
   "id": "e383ec46",
   "metadata": {},
   "outputs": [],
   "source": [
    "file_out = open(\"encrypted_data.bin\", \"wb\")"
   ]
  },
  {
   "cell_type": "code",
   "execution_count": 468,
   "id": "3ab54841",
   "metadata": {},
   "outputs": [],
   "source": [
    "recipient_key = RSA.import_key(open(\"public.pem\", \"rb\").read())"
   ]
  },
  {
   "cell_type": "code",
   "execution_count": 469,
   "id": "c93f3952",
   "metadata": {},
   "outputs": [],
   "source": [
    "session_key = get_random_bytes(24)"
   ]
  },
  {
   "cell_type": "code",
   "execution_count": 470,
   "id": "89a2f0ab",
   "metadata": {},
   "outputs": [],
   "source": [
    "cipher_rsa = PKCS1_OAEP.new(recipient_key)"
   ]
  },
  {
   "cell_type": "code",
   "execution_count": 471,
   "id": "f80bd46c",
   "metadata": {},
   "outputs": [],
   "source": [
    "enc_session_key = cipher_rsa.encrypt(session_key)"
   ]
  },
  {
   "cell_type": "code",
   "execution_count": 472,
   "id": "484cb335",
   "metadata": {},
   "outputs": [],
   "source": [
    "cipher_aes = AES.new(session_key, AES.MODE_EAX)"
   ]
  },
  {
   "cell_type": "code",
   "execution_count": 473,
   "id": "e063d256",
   "metadata": {},
   "outputs": [],
   "source": [
    "ciphertext, tag = cipher_aes.encrypt_and_digest(data)"
   ]
  },
  {
   "cell_type": "code",
   "execution_count": 474,
   "id": "299f066f",
   "metadata": {},
   "outputs": [
    {
     "data": {
      "text/plain": [
       "[256, 16, 16, 6]"
      ]
     },
     "execution_count": 474,
     "metadata": {},
     "output_type": "execute_result"
    }
   ],
   "source": [
    "[ file_out.write(x) for x in (enc_session_key, cipher_aes.nonce, tag, ciphertext) ]"
   ]
  },
  {
   "cell_type": "code",
   "execution_count": 475,
   "id": "4bf4f2ef",
   "metadata": {},
   "outputs": [],
   "source": [
    "file_out.close()"
   ]
  },
  {
   "cell_type": "code",
   "execution_count": 476,
   "id": "dd33a25c",
   "metadata": {},
   "outputs": [],
   "source": [
    "f.close()"
   ]
  },
  {
   "cell_type": "code",
   "execution_count": null,
   "id": "1b2302be",
   "metadata": {},
   "outputs": [],
   "source": []
  },
  {
   "cell_type": "code",
   "execution_count": null,
   "id": "0978d9d1",
   "metadata": {},
   "outputs": [],
   "source": []
  }
 ],
 "metadata": {
  "kernelspec": {
   "display_name": "Python 3 (ipykernel)",
   "language": "python",
   "name": "python3"
  },
  "language_info": {
   "codemirror_mode": {
    "name": "ipython",
    "version": 3
   },
   "file_extension": ".py",
   "mimetype": "text/x-python",
   "name": "python",
   "nbconvert_exporter": "python",
   "pygments_lexer": "ipython3",
   "version": "3.9.13"
  }
 },
 "nbformat": 4,
 "nbformat_minor": 5
}
